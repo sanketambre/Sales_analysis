{
 "cells": [
  {
   "cell_type": "code",
   "execution_count": null,
   "id": "08c803ed",
   "metadata": {},
   "outputs": [],
   "source": [
    "import pandas as pd\n",
    "import os"
   ]
  },
  {
   "cell_type": "code",
   "execution_count": null,
   "id": "96b48ab8",
   "metadata": {},
   "outputs": [],
   "source": [
    "#merging all 12 datasets to one\n",
    "\n",
    "files =[file for file in os.listdir('./Sales_Data')]"
   ]
  },
  {
   "cell_type": "code",
   "execution_count": null,
   "id": "aead3027",
   "metadata": {
    "scrolled": true
   },
   "outputs": [],
   "source": [
    "all_months_data=pd.DataFrame()\n",
    "for file in files:\n",
    "    df=pd.read_csv(\"./Sales_Data/\"+file)\n",
    "    print(file)\n",
    "    all_months_data=pd.concat([all_months_data,df])\n",
    "all_months_data"
   ]
  },
  {
   "cell_type": "code",
   "execution_count": null,
   "id": "7d2448b1",
   "metadata": {},
   "outputs": [],
   "source": [
    "#making one csv for all\n",
    "\n",
    "all_months_data.to_csv(\"all_data.csv\",index=False)"
   ]
  },
  {
   "cell_type": "code",
   "execution_count": null,
   "id": "9911bfe2",
   "metadata": {},
   "outputs": [],
   "source": [
    "pd.read_csv(\"all_data.csv\")"
   ]
  },
  {
   "cell_type": "markdown",
   "id": "0a0ffb23",
   "metadata": {},
   "source": [
    "#### Q1: what was best month for sales and money earned that month?"
   ]
  },
  {
   "cell_type": "code",
   "execution_count": null,
   "id": "c5f53e17",
   "metadata": {},
   "outputs": [],
   "source": [
    "#drop all the rows with NAN values\n",
    "\n",
    "all_months_data.dropna(how=\"all\",inplace=True)"
   ]
  },
  {
   "cell_type": "code",
   "execution_count": null,
   "id": "cf819579",
   "metadata": {},
   "outputs": [],
   "source": [
    "#find \"or\" and delete it\n",
    "\n",
    "all_months_data=all_months_data[all_months_data[\"Order Date\"].str[0:2]!=\"Or\"]"
   ]
  },
  {
   "cell_type": "code",
   "execution_count": null,
   "id": "eb4b4e91",
   "metadata": {},
   "outputs": [],
   "source": [
    "#addidng a column called month and converting it to int\n",
    "\n",
    "all_months_data[\"month\"]=all_months_data[\"Order Date\"].str[0:2]\n",
    "all_months_data[\"month\"]=all_months_data[\"month\"].astype(\"int\")\n",
    "all_months_data.head()"
   ]
  },
  {
   "cell_type": "code",
   "execution_count": null,
   "id": "454901ef",
   "metadata": {},
   "outputs": [],
   "source": [
    "#converting other columns to correct types\n",
    "\n",
    "all_months_data[\"Price Each\"]=all_months_data[\"Price Each\"].astype('float')\n",
    "all_months_data[\"Quantity Ordered\"]=all_months_data[\"Quantity Ordered\"].astype('int')"
   ]
  },
  {
   "cell_type": "code",
   "execution_count": null,
   "id": "12271721",
   "metadata": {},
   "outputs": [],
   "source": [
    "#creating a new column for sales\n",
    "\n",
    "all_months_data[\"sales\"]=all_months_data[\"Price Each\"]*all_months_data[\"Quantity Ordered\"]"
   ]
  },
  {
   "cell_type": "code",
   "execution_count": null,
   "id": "393174e1",
   "metadata": {},
   "outputs": [],
   "source": [
    "#grouping by months and taking sum of sales\n",
    "\n",
    "results=all_months_data.groupby('month').sum()[\"sales\"].round(5)\n",
    "results"
   ]
  },
  {
   "cell_type": "code",
   "execution_count": null,
   "id": "af434d15",
   "metadata": {},
   "outputs": [],
   "source": [
    "import matplotlib.pyplot as plt"
   ]
  },
  {
   "cell_type": "code",
   "execution_count": null,
   "id": "0316f244",
   "metadata": {
    "scrolled": true
   },
   "outputs": [],
   "source": [
    "#plot for monthly sales\n",
    "\n",
    "months=range(1,13)\n",
    "plt.bar(months,results)\n",
    "plt.xticks(months)\n",
    "plt.title(\"Monthly Sales\")\n",
    "plt.xlabel(\"month number\")\n",
    "plt.ylabel(\"Sales in USD\")"
   ]
  },
  {
   "cell_type": "markdown",
   "id": "4d511322",
   "metadata": {},
   "source": [
    "### Q2: Which city made highest sales?"
   ]
  },
  {
   "cell_type": "code",
   "execution_count": null,
   "id": "3a23ac8d",
   "metadata": {},
   "outputs": [],
   "source": [
    "# adding a city column\n",
    "\n",
    "def get_city(address):\n",
    "    return address.split(',')[1]\n",
    "\n",
    "def get_state(address):\n",
    "    return address.split(',')[2].split()[0]\n",
    "    \n",
    "all_months_data[\"City\"]=all_months_data[\"Purchase Address\"].apply(lambda x : get_city(x) + ' ' + get_state(x))"
   ]
  },
  {
   "cell_type": "code",
   "execution_count": null,
   "id": "dba8ebeb",
   "metadata": {},
   "outputs": [],
   "source": [
    "all_months_data.head()"
   ]
  },
  {
   "cell_type": "code",
   "execution_count": null,
   "id": "147ac512",
   "metadata": {},
   "outputs": [],
   "source": [
    "#grouping by cities and taking sum of sales\n",
    "\n",
    "city_wise_results=all_months_data.groupby(\"City\").sum()['sales'].round(5)\n",
    "city_wise_results"
   ]
  },
  {
   "cell_type": "code",
   "execution_count": null,
   "id": "2d87e711",
   "metadata": {},
   "outputs": [],
   "source": [
    "#plot sales for each city\n",
    "\n",
    "Cities=list(city_wise_results.index)\n",
    "\n",
    "plt.bar(Cities,city_wise_results,width=0.8)\n",
    "\n",
    "plt.xticks(Cities,rotation='vertical',size=10)\n",
    "plt.title(\"Sales\")\n",
    "plt.xlabel(\"Cities\")\n",
    "plt.ylabel(\"Sales in USD\")"
   ]
  },
  {
   "cell_type": "markdown",
   "id": "5e0e8fd9",
   "metadata": {},
   "source": [
    "### Q3: What time should we display advertisements to maximize likelihood of customers buying product "
   ]
  },
  {
   "cell_type": "code",
   "execution_count": null,
   "id": "b55d53c9",
   "metadata": {},
   "outputs": [],
   "source": [
    "#converting order date to datetime object\n",
    "\n",
    "all_months_data['Order Date']=pd.to_datetime(all_months_data['Order Date'])"
   ]
  },
  {
   "cell_type": "code",
   "execution_count": null,
   "id": "56d70689",
   "metadata": {},
   "outputs": [],
   "source": [
    "#adding a columns for hour and minute\n",
    "\n",
    "all_months_data['Hour']=all_months_data[\"Order Date\"].dt.hour\n",
    "all_months_data['Minute']=all_months_data[\"Order Date\"].dt.minute"
   ]
  },
  {
   "cell_type": "code",
   "execution_count": null,
   "id": "7f80c158",
   "metadata": {},
   "outputs": [],
   "source": [
    "all_months_data.head()"
   ]
  },
  {
   "cell_type": "code",
   "execution_count": null,
   "id": "f19d780d",
   "metadata": {},
   "outputs": [],
   "source": [
    "#creating list of hours\n",
    "\n",
    "Hours=[hour for hour, df in all_months_data.groupby('Hour')]"
   ]
  },
  {
   "cell_type": "code",
   "execution_count": null,
   "id": "134fcbca",
   "metadata": {},
   "outputs": [],
   "source": [
    "#grouping by hour and taking sum of sales\n",
    "\n",
    "hourly_results=all_months_data.groupby('Hour').count()"
   ]
  },
  {
   "cell_type": "code",
   "execution_count": null,
   "id": "a51447e1",
   "metadata": {},
   "outputs": [],
   "source": [
    "plt.plot(Hours,hourly_results)\n",
    "plt.xticks(Hours)\n",
    "plt.grid()\n",
    "plt.xlabel('Hour')\n",
    "plt.ylabel('No. of orders')\n",
    "plt.show"
   ]
  },
  {
   "cell_type": "code",
   "execution_count": null,
   "id": "67b67b0d",
   "metadata": {},
   "outputs": [],
   "source": [
    "#would recommend before 11 am or before 7 pm"
   ]
  },
  {
   "cell_type": "markdown",
   "id": "0ca70023",
   "metadata": {},
   "source": [
    "### Q4: What products are most often sold together?"
   ]
  },
  {
   "cell_type": "code",
   "execution_count": null,
   "id": "20746ee3",
   "metadata": {},
   "outputs": [],
   "source": [
    "#making a new df of only dplicated items\n",
    "\n",
    "df=all_months_data[all_months_data['Order ID'].duplicated(keep=False)]"
   ]
  },
  {
   "cell_type": "code",
   "execution_count": null,
   "id": "f62f86e2",
   "metadata": {},
   "outputs": [],
   "source": [
    "#joined 2 products to be displayed in 1 column\n",
    "\n",
    "df[\"Grouped\"]=df.groupby('Order ID')[\"Product\"].transform(lambda x: ','.join(x))"
   ]
  },
  {
   "cell_type": "code",
   "execution_count": null,
   "id": "f0b0ecae",
   "metadata": {},
   "outputs": [],
   "source": [
    "#took only required columns and dropped duplicates\n",
    "\n",
    "df=df[[\"Order ID\",\"Grouped\"]].drop_duplicates()\n",
    "df"
   ]
  },
  {
   "cell_type": "code",
   "execution_count": null,
   "id": "954415f3",
   "metadata": {},
   "outputs": [],
   "source": [
    "from itertools import combinations\n",
    "from collections import Counter"
   ]
  },
  {
   "cell_type": "code",
   "execution_count": null,
   "id": "b58f55e2",
   "metadata": {},
   "outputs": [],
   "source": [
    "#used counter to count maximun occurences of pairs\n",
    "\n",
    "count=Counter()\n",
    "\n",
    "for items in df['Grouped']:\n",
    "    lst=items.split(',')\n",
    "    count.update(Counter(combinations(lst,2)))"
   ]
  },
  {
   "cell_type": "code",
   "execution_count": null,
   "id": "90f8d65a",
   "metadata": {},
   "outputs": [],
   "source": [
    "count.most_common()"
   ]
  },
  {
   "cell_type": "code",
   "execution_count": null,
   "id": "35af852e",
   "metadata": {},
   "outputs": [],
   "source": [
    "# ('iPhone', 'Lightning Charging Cable'): 1005"
   ]
  },
  {
   "cell_type": "markdown",
   "id": "6fcd08d8",
   "metadata": {},
   "source": [
    "### Q4: Which product is sold the most and why ?"
   ]
  },
  {
   "cell_type": "code",
   "execution_count": 34,
   "id": "2ae27347",
   "metadata": {},
   "outputs": [],
   "source": [
    "# grouping by products to get quantity of each one\n",
    "quantity_ordered=all_months_data.groupby('Product').sum()['Quantity Ordered']"
   ]
  },
  {
   "cell_type": "code",
   "execution_count": 37,
   "id": "27d615a4",
   "metadata": {
    "collapsed": true
   },
   "outputs": [
    {
     "data": {
      "text/plain": [
       "['20in Monitor',\n",
       " '27in 4K Gaming Monitor',\n",
       " '27in FHD Monitor',\n",
       " '34in Ultrawide Monitor',\n",
       " 'AA Batteries (4-pack)',\n",
       " 'AAA Batteries (4-pack)',\n",
       " 'Apple Airpods Headphones',\n",
       " 'Bose SoundSport Headphones',\n",
       " 'Flatscreen TV',\n",
       " 'Google Phone',\n",
       " 'LG Dryer',\n",
       " 'LG Washing Machine',\n",
       " 'Lightning Charging Cable',\n",
       " 'Macbook Pro Laptop',\n",
       " 'ThinkPad Laptop',\n",
       " 'USB-C Charging Cable',\n",
       " 'Vareebadd Phone',\n",
       " 'Wired Headphones',\n",
       " 'iPhone']"
      ]
     },
     "execution_count": 37,
     "metadata": {},
     "output_type": "execute_result"
    }
   ],
   "source": [
    "# types of products\n",
    "\n",
    "products=[product for product,df in all_months_data.groupby('Product')]"
   ]
  },
  {
   "cell_type": "code",
   "execution_count": 41,
   "id": "fc64c02c",
   "metadata": {},
   "outputs": [
    {
     "data": {
      "text/plain": [
       "<function matplotlib.pyplot.show(close=None, block=None)>"
      ]
     },
     "execution_count": 41,
     "metadata": {},
     "output_type": "execute_result"
    },
    {
     "data": {
      "image/png": "[encoded data removed]",
      "text/plain": [
       "<Figure size 432x288 with 1 Axes>"
      ]
     },
     "metadata": {
      "needs_background": "light"
     },
     "output_type": "display_data"
    }
   ],
   "source": [
    "#pltting quantity ordered of each products\n",
    "\n",
    "plt.bar(products,quantity_ordered)\n",
    "plt.xticks(rotation='vertical')\n",
    "plt.xlabel('Products')\n",
    "plt.ylabel('Quantity')\n",
    "plt.show"
   ]
  },
  {
   "cell_type": "code",
   "execution_count": 42,
   "id": "dfb02cde",
   "metadata": {},
   "outputs": [],
   "source": [
    "# AAA Batteries (4-pack)"
   ]
  },
  {
   "cell_type": "code",
   "execution_count": 43,
   "id": "560c9ed3",
   "metadata": {},
   "outputs": [],
   "source": [
    "# finding correlation between quantity sold and prices"
   ]
  },
  {
   "cell_type": "code",
   "execution_count": 49,
   "id": "ddb8c740",
   "metadata": {},
   "outputs": [],
   "source": [
    "prices=all_months_data.groupby('Product').mean()['Price Each']"
   ]
  },
  {
   "cell_type": "code",
   "execution_count": 68,
   "id": "f54ae63a",
   "metadata": {},
   "outputs": [
    {
     "name": "stderr",
     "output_type": "stream",
     "text": [
      "<ipython-input-68-a6fa47869568>:5: UserWarning: FixedFormatter should only be used together with FixedLocator\n",
      "  ax1.set_xticklabels(products,rotation='vertical')\n"
     ]
    },
    {
     "data": {
      "image/png": "[encoded data removed]",
      "text/plain": [
       "<Figure size 432x288 with 2 Axes>"
      ]
     },
     "metadata": {
      "needs_background": "light"
     },
     "output_type": "display_data"
    }
   ],
   "source": [
    "fig, ax1 = plt.subplots()\n",
    "ax2=ax1.twinx()\n",
    "ax1.bar(products,quantity_ordered,color='g')\n",
    "ax2.plot(products,prices,color='b')\n",
    "ax1.set_xticklabels(products,rotation='vertical')\n",
    "ax2.set_ylabel(\"Price ($)\")\n",
    "ax1.set_ylabel(\"Quantity ordered\")\n",
    "plt.show()"
   ]
  },
  {
   "cell_type": "code",
   "execution_count": null,
   "id": "3324054c",
   "metadata": {},
   "outputs": [],
   "source": [
    "#this shows that quantiy ordered and prices are correlated , products with lower prices are bought more"
   ]
  }
 ],
 "metadata": {
  "kernelspec": {
   "display_name": "Python 3",
   "language": "python",
   "name": "python3"
  },
  "language_info": {
   "codemirror_mode": {
    "name": "ipython",
    "version": 3
   },
   "file_extension": ".py",
   "mimetype": "text/x-python",
   "name": "python",
   "nbconvert_exporter": "python",
   "pygments_lexer": "ipython3",
   "version": "3.9.5"
  }
 },
 "nbformat": 4,
 "nbformat_minor": 5
}
